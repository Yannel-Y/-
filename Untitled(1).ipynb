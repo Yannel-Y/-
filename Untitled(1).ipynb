{
 "cells": [
  {
   "cell_type": "code",
   "execution_count": 2,
   "id": "b6f2cd57-986a-4126-ba01-5832bddc0f8f",
   "metadata": {},
   "outputs": [
    {
     "ename": "ImportError",
     "evalue": "cannot import name 'linerRegression' from 'sklearn.linear_model' (C:\\ProgramData\\Anaconda3\\lib\\site-packages\\sklearn\\linear_model\\__init__.py)",
     "output_type": "error",
     "traceback": [
      "\u001b[1;31m---------------------------------------------------------------------------\u001b[0m",
      "\u001b[1;31mImportError\u001b[0m                               Traceback (most recent call last)",
      "\u001b[1;32m~\\AppData\\Local\\Temp/ipykernel_348/2337482279.py\u001b[0m in \u001b[0;36m<module>\u001b[1;34m\u001b[0m\n\u001b[0;32m      1\u001b[0m \u001b[1;32mimport\u001b[0m \u001b[0mnumpy\u001b[0m \u001b[1;32mas\u001b[0m \u001b[0mnp\u001b[0m\u001b[1;33m\u001b[0m\u001b[1;33m\u001b[0m\u001b[0m\n\u001b[1;32m----> 2\u001b[1;33m \u001b[1;32mfrom\u001b[0m \u001b[0msklearn\u001b[0m\u001b[1;33m.\u001b[0m\u001b[0mlinear_model\u001b[0m \u001b[1;32mimport\u001b[0m \u001b[0mlinerRegression\u001b[0m\u001b[1;33m\u001b[0m\u001b[1;33m\u001b[0m\u001b[0m\n\u001b[0m\u001b[0;32m      3\u001b[0m \u001b[1;32mimport\u001b[0m \u001b[0mmatplotlib\u001b[0m\u001b[1;33m.\u001b[0m\u001b[0mpyplot\u001b[0m \u001b[1;32mas\u001b[0m \u001b[0mplt\u001b[0m\u001b[1;33m\u001b[0m\u001b[1;33m\u001b[0m\u001b[0m\n\u001b[0;32m      4\u001b[0m \u001b[1;33m\u001b[0m\u001b[0m\n\u001b[0;32m      5\u001b[0m \u001b[1;31m#准备数据\u001b[0m\u001b[1;33m\u001b[0m\u001b[1;33m\u001b[0m\u001b[0m\n",
      "\u001b[1;31mImportError\u001b[0m: cannot import name 'linerRegression' from 'sklearn.linear_model' (C:\\ProgramData\\Anaconda3\\lib\\site-packages\\sklearn\\linear_model\\__init__.py)"
     ]
    }
   ],
   "source": [
    "import numpy as np\n",
    "from sklearn.linear_model import linerRegression\n",
    "import matplotlib.pyplot as plt \n",
    "\n",
    "#准备数据\n",
    "#房屋面积(平方米)作为特征\n",
    "X = np.array([[50],[70],[82],[101],[120]])\n",
    "#价格（万元）作为目标变量\n",
    "y = np.array([300,500,610,702,800])\n",
    "\n",
    "#创建线性回归模型示例\n",
    "model = LinearRegression()\n",
    "\n",
    "#训练模型\n",
    "model.fit(X,y)\n",
    "\n",
    "#获取模型的斜率（权重）和载距（偏置）\n",
    "slope = model.coef_\n",
    "intercept = model.intercept_\n",
    "\n",
    "print(f\"斜率（权重）：{slope[0]}\")\n",
    "print(f\"截距（偏置）：{intercept}\")"
   ]
  },
  {
   "cell_type": "code",
   "execution_count": null,
   "id": "73ba8b32-80eb-4f3e-92f6-7910e6abbaae",
   "metadata": {},
   "outputs": [],
   "source": [
    "#使用模型进行预测\n",
    "predictions = model.predict(X)\n",
    "\n",
    "#打印预测结过\n",
    "print(\"预测的价格：\")\n",
    "for pred in predictions:\n",
    "    print(pred)\n",
    "    \n",
    "#可视化结果\n",
    "plt.scatter(X,y,color='blue') #实际的点\n",
    "plt.plot(X,predictions, color='red') #回归线\n",
    "plt.title('House Price Prediction')\n",
    "plt.xlabel('Area (sq meters)')\n",
    "plt"
   ]
  }
 ],
 "metadata": {
  "kernelspec": {
   "display_name": "Python 3 (ipykernel)",
   "language": "python",
   "name": "python3"
  },
  "language_info": {
   "codemirror_mode": {
    "name": "ipython",
    "version": 3
   },
   "file_extension": ".py",
   "mimetype": "text/x-python",
   "name": "python",
   "nbconvert_exporter": "python",
   "pygments_lexer": "ipython3",
   "version": "3.9.7"
  }
 },
 "nbformat": 4,
 "nbformat_minor": 5
}
