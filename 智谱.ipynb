{
 "cells": [
  {
   "cell_type": "code",
   "execution_count": 1,
   "id": "aea3a90d-53be-4aa5-a72c-3d4134169de8",
   "metadata": {},
   "outputs": [
    {
     "name": "stdout",
     "output_type": "stream",
     "text": [
      "Collecting zhipuai\n",
      "  Using cached zhipuai-2.1.5.20230904-py3-none-any.whl (104 kB)\n",
      "Collecting pydantic-core>=2.14.6\n",
      "  Using cached pydantic_core-2.27.0-cp39-none-win_amd64.whl (2.0 MB)\n",
      "Collecting pydantic<3.0,>=1.9.0\n",
      "  Using cached pydantic-2.9.2-py3-none-any.whl (434 kB)\n",
      "Collecting pyjwt<2.9.0,>=2.8.0\n",
      "  Using cached PyJWT-2.8.0-py3-none-any.whl (22 kB)\n",
      "Collecting httpx>=0.23.0\n",
      "  Using cached httpx-0.27.2-py3-none-any.whl (76 kB)\n",
      "Collecting cachetools>=4.2.2\n",
      "  Using cached cachetools-5.5.0-py3-none-any.whl (9.5 kB)\n",
      "Requirement already satisfied: anyio in c:\\programdata\\anaconda3\\lib\\site-packages (from httpx>=0.23.0->zhipuai) (2.2.0)\n",
      "Requirement already satisfied: idna in c:\\programdata\\anaconda3\\lib\\site-packages (from httpx>=0.23.0->zhipuai) (3.2)\n",
      "Collecting httpcore==1.*\n",
      "  Using cached httpcore-1.0.7-py3-none-any.whl (78 kB)\n",
      "Requirement already satisfied: sniffio in c:\\programdata\\anaconda3\\lib\\site-packages (from httpx>=0.23.0->zhipuai) (1.2.0)\n",
      "Requirement already satisfied: certifi in c:\\programdata\\anaconda3\\lib\\site-packages (from httpx>=0.23.0->zhipuai) (2021.10.8)\n",
      "Collecting h11<0.15,>=0.13\n",
      "  Using cached h11-0.14.0-py3-none-any.whl (58 kB)\n",
      "Collecting annotated-types>=0.6.0\n",
      "  Using cached annotated_types-0.7.0-py3-none-any.whl (13 kB)\n",
      "Collecting typing-extensions>=4.6.1\n",
      "  Using cached typing_extensions-4.12.2-py3-none-any.whl (37 kB)\n",
      "Collecting pydantic-core>=2.14.6\n",
      "  Using cached pydantic_core-2.23.4-cp39-none-win_amd64.whl (1.9 MB)\n",
      "Installing collected packages: typing-extensions, h11, pydantic-core, httpcore, annotated-types, pyjwt, pydantic, httpx, cachetools, zhipuai\n",
      "  Attempting uninstall: typing-extensions\n",
      "    Found existing installation: typing-extensions 3.10.0.2\n",
      "    Uninstalling typing-extensions-3.10.0.2:\n",
      "      Successfully uninstalled typing-extensions-3.10.0.2\n",
      "  Attempting uninstall: pyjwt\n",
      "    Found existing installation: PyJWT 2.1.0\n",
      "    Uninstalling PyJWT-2.1.0:\n",
      "      Successfully uninstalled PyJWT-2.1.0\n",
      "Successfully installed annotated-types-0.7.0 cachetools-5.5.0 h11-0.14.0 httpcore-1.0.7 httpx-0.27.2 pydantic-2.9.2 pydantic-core-2.23.4 pyjwt-2.8.0 typing-extensions-4.12.2 zhipuai-2.1.5.20230904\n",
      "Note: you may need to restart the kernel to use updated packages.\n"
     ]
    }
   ],
   "source": [
    "pip install zhipuai"
   ]
  },
  {
   "cell_type": "code",
   "execution_count": 2,
   "id": "c63ea7e3-e372-438d-a06d-450052689da8",
   "metadata": {},
   "outputs": [],
   "source": [
    "import os\n",
    "from zhipuai import ZhipuAI\n",
    "import base64# 导入base64库，用于视频文件编码成base64字符串格式\n",
    "\n",
    "os.environ[\"ZHIPUAI_API_KEY\"] = \"6518ee6483963cbebc59629b1d79b537.sjy0ru3Ijh56OzAl\"#api密钥\n",
    "\n",
    "client = ZhipuAI()"
   ]
  },
  {
   "cell_type": "raw",
   "id": "f63d970f-0d04-49a2-8821-f0d376caa71d",
   "metadata": {},
   "source": [
    "直接调补全接口，并设置具体大模型为GLM-4V-PLUS"
   ]
  },
  {
   "cell_type": "code",
   "execution_count": 9,
   "id": "844d1ca2-edfb-46a5-94a3-79724ec2af73",
   "metadata": {},
   "outputs": [
    {
     "name": "stdout",
     "output_type": "stream",
     "text": [
      "通常来说，视频理解的响应时间较长，需要等待数十秒......\n",
      "CompletionMessage(content='一只拥有白色和棕色斑点的家猫坐在现代室内环境中的灰色瓷砖地板上，最初它向左凝视。随着时间的推移，它的注意力转向右边，然后向上以好奇或警觉的方式转移。场景包括一个深色木门框和一个纸板箱，暗示了一个家庭环境。猫的毛茸茸的外套和富有表现力的眼睛在它与周围环境的互动中显得突出。视频以智能手机相机应用界面上的数字显示屏结束，表明有一个搜索“抖音”用户资料的栏，以及一个带有猫图像的圆形个人资料图标。', role='assistant', tool_calls=None)\n"
     ]
    }
   ],
   "source": [
    "video_path = \"video_1.mp4\" #设置视频文件的路径\n",
    "with open(video_path,'rb') as video_file: #以二进制读模式打开视频文件\n",
    "    video_base = base64.b64encode(video_file.read()).decode('utf-8')  #把视频文件编码成智谱支持的video_base64字符串，再解码成utf-8格式字符串\n",
    "    \n",
    "print(\"通常来说，视频理解的响应时间较长，需要等待数十秒......\")\n",
    "\n",
    "response = client.chat.completions.create( #直接调补全接口\n",
    "    model=\"glm-4v-plus\", #设置智谱具体大模型，glm-4v-plus支持视频理解\n",
    "    temperature=0.0,  #设置温度参数，控制文本的随机性，0.0表示不随机，输出最可能的文本\n",
    "    top_p=0,   #设置top_p参数，控制生成文本的多样性，0表示不使用此参数\n",
    "    \n",
    "    messages=[{  #设置消息列表\n",
    "        \"role\": \"user\",  #指定消息的角色为用户\n",
    "        \"content\":[{   #定义消息内容列表\n",
    "            \"type\": \"video_url\",  #设置视频链接\n",
    "            \"video_url\": { \"url\" : video_base}  #将编码后的视频以base64字符串形式作为链接\n",
    "        },{\n",
    "            \"type\": \"text\",#设置提问/提示词类型为文本\n",
    "            \"text\": \"请描述视频内容，\"#设置提问/提示词\n",
    "        }]\n",
    "    }]\n",
    ")\n",
    "\n",
    "print(response.choices[0].message)#输出回答列表中的第一个选项中的消息"
   ]
  },
  {
   "cell_type": "code",
   "execution_count": 8,
   "id": "d6418e24-68c8-4fa8-8810-2b6519ae14a8",
   "metadata": {},
   "outputs": [
    {
     "name": "stdout",
     "output_type": "stream",
     "text": [
      "通常来说，视频理解的响应时间较长，需要等待数十秒......\n",
      "CompletionMessage(content='画面中，一只猫正对着镜头坐着，它先看着镜头，然后伸出舌头舔了一下嘴边后又看向镜头。镜头切换，画面中出现一个抖音号的搜索界面。', role='assistant', tool_calls=None)\n"
     ]
    }
   ],
   "source": [
    "video_path = \"mao.mp4\" #设置视频文件的路径\n",
    "with open(video_path,'rb') as video_file: #以二进制读模式打开视频文件\n",
    "    video_base = base64.b64encode(video_file.read()).decode('utf-8')  #把视频文件编码成智谱支持的video_base64字符串，再解码成utf-8格式字符串\n",
    "    \n",
    "print(\"通常来说，视频理解的响应时间较长，需要等待数十秒......\")\n",
    "\n",
    "response = client.chat.completions.create( #直接调补全接口\n",
    "    model=\"glm-4v-plus\", #设置智谱具体大模型，glm-4v-plus支持视频理解\n",
    "    temperature=0.0,  #设置温度参数，控制文本的随机性，0.0表示不随机，输出最可能的文本\n",
    "    top_p=0,   #设置top_p参数，控制生成文本的多样性，0表示不使用此参数\n",
    "    \n",
    "    messages=[{  #设置消息列表\n",
    "        \"role\": \"user\",  #指定消息的角色为用户\n",
    "        \"content\":[{   #定义消息内容列表\n",
    "            \"type\": \"video_url\",  #设置视频链接\n",
    "            \"video_url\": { \"url\" : video_base}  #将编码后的视频以base64字符串形式作为链接\n",
    "        },{\n",
    "            \"type\": \"text\",#设置提问/提示词类型为文本\n",
    "            \"text\": \"请描述视频内容\"#设置提问/提示词\n",
    "        }]\n",
    "    }]\n",
    ")\n",
    "\n",
    "print(response.choices[0].message)#输出回答列表中的第一个选项中的消息"
   ]
  },
  {
   "cell_type": "code",
   "execution_count": null,
   "id": "607c8ad0-b584-464b-9061-e5f15ee0611d",
   "metadata": {},
   "outputs": [],
   "source": []
  }
 ],
 "metadata": {
  "kernelspec": {
   "display_name": "Python 3 (ipykernel)",
   "language": "python",
   "name": "python3"
  },
  "language_info": {
   "codemirror_mode": {
    "name": "ipython",
    "version": 3
   },
   "file_extension": ".py",
   "mimetype": "text/x-python",
   "name": "python",
   "nbconvert_exporter": "python",
   "pygments_lexer": "ipython3",
   "version": "3.9.7"
  }
 },
 "nbformat": 4,
 "nbformat_minor": 5
}
