{
 "cells": [
  {
   "cell_type": "code",
   "execution_count": 1,
   "id": "89e2986b-d8ef-4945-9e40-affe620d36ed",
   "metadata": {
    "execution": {
     "iopub.execute_input": "2024-11-21T09:05:25.381813Z",
     "iopub.status.busy": "2024-11-21T09:05:25.381300Z",
     "iopub.status.idle": "2024-11-21T09:05:28.314584Z",
     "shell.execute_reply": "2024-11-21T09:05:28.313485Z",
     "shell.execute_reply.started": "2024-11-21T09:05:25.381791Z"
    },
    "jupyter": {
     "source_hidden": false
    }
   },
   "outputs": [
    {
     "name": "stdout",
     "output_type": "stream",
     "text": [
      "Looking in indexes: https://repo.huaweicloud.com/repository/pypi/simple\r\n"
     ]
    },
    {
     "name": "stdout",
     "output_type": "stream",
     "text": [
      "Collecting zhipuai\r\n"
     ]
    },
    {
     "name": "stdout",
     "output_type": "stream",
     "text": [
      "  Downloading https://repo.huaweicloud.com/repository/pypi/packages/10/28/5c1efbfb560e64458b22e0442279af8bde673edcb096762a3aeccee3a8ec/zhipuai-2.1.5.20230904-py3-none-any.whl (104 kB)\r\n",
      "\u001b[?25l     \u001b[90m━━━━━━━━━━━━━━━━━━━━━━━━━━━━━━━━━━━━━━━━\u001b[0m \u001b[32m0.0/105.0 kB\u001b[0m \u001b[31m?\u001b[0m eta \u001b[36m-:--:--\u001b[0m"
     ]
    },
    {
     "name": "stdout",
     "output_type": "stream",
     "text": [
      "\r",
      "\u001b[2K     \u001b[91m━━━━━━━━━━━━━━\u001b[0m\u001b[91m╸\u001b[0m\u001b[90m━━━━━━━━━━━━━━━━━━━━━━━\u001b[0m \u001b[32m41.0/105.0 kB\u001b[0m \u001b[31m946.4 kB/s\u001b[0m eta \u001b[36m0:00:01\u001b[0m\r",
      "\u001b[2K     \u001b[91m━━━━━━━━━━━━━━━━━━━━━━━━━━━━━━━━━━━\u001b[0m\u001b[90m╺\u001b[0m\u001b[90m━━━━\u001b[0m \u001b[32m92.2/105.0 kB\u001b[0m \u001b[31m1.2 MB/s\u001b[0m eta \u001b[36m0:00:01\u001b[0m\r",
      "\u001b[2K     \u001b[90m━━━━━━━━━━━━━━━━━━━━━━━━━━━━━━━━━━━━━━━\u001b[0m \u001b[32m105.0/105.0 kB\u001b[0m \u001b[31m1.3 MB/s\u001b[0m eta \u001b[36m0:00:00\u001b[0m\r\n",
      "\u001b[?25h"
     ]
    },
    {
     "name": "stdout",
     "output_type": "stream",
     "text": [
      "Requirement already satisfied: cachetools>=4.2.2 in /usr/local/lib/python3.10/site-packages (from zhipuai) (5.3.3)\r\n",
      "Requirement already satisfied: httpx>=0.23.0 in /usr/local/lib/python3.10/site-packages (from zhipuai) (0.27.0)\r\n",
      "Requirement already satisfied: pydantic<3.0,>=1.9.0 in /usr/local/lib/python3.10/site-packages (from zhipuai) (2.7.4)\r\n",
      "Requirement already satisfied: pydantic-core>=2.14.6 in /usr/local/lib/python3.10/site-packages (from zhipuai) (2.18.4)\r\n"
     ]
    },
    {
     "name": "stdout",
     "output_type": "stream",
     "text": [
      "Collecting pyjwt<2.9.0,>=2.8.0 (from zhipuai)\r\n"
     ]
    },
    {
     "name": "stdout",
     "output_type": "stream",
     "text": [
      "  Downloading https://repo.huaweicloud.com/repository/pypi/packages/2b/4f/e04a8067c7c96c364cef7ef73906504e2f40d690811c021e1a1901473a19/PyJWT-2.8.0-py3-none-any.whl (22 kB)\r\n",
      "Requirement already satisfied: anyio in /usr/local/lib/python3.10/site-packages (from httpx>=0.23.0->zhipuai) (4.4.0)\r\n",
      "Requirement already satisfied: certifi in /usr/local/lib/python3.10/site-packages (from httpx>=0.23.0->zhipuai) (2023.7.22)\r\n",
      "Requirement already satisfied: httpcore==1.* in /usr/local/lib/python3.10/site-packages (from httpx>=0.23.0->zhipuai) (1.0.5)\r\n",
      "Requirement already satisfied: idna in /usr/local/lib/python3.10/site-packages (from httpx>=0.23.0->zhipuai) (3.4)\r\n",
      "Requirement already satisfied: sniffio in /usr/local/lib/python3.10/site-packages (from httpx>=0.23.0->zhipuai) (1.3.1)\r\n"
     ]
    },
    {
     "name": "stdout",
     "output_type": "stream",
     "text": [
      "Requirement already satisfied: h11<0.15,>=0.13 in /usr/local/lib/python3.10/site-packages (from httpcore==1.*->httpx>=0.23.0->zhipuai) (0.14.0)\r\n",
      "Requirement already satisfied: annotated-types>=0.4.0 in /usr/local/lib/python3.10/site-packages (from pydantic<3.0,>=1.9.0->zhipuai) (0.7.0)\r\n",
      "Requirement already satisfied: typing-extensions>=4.6.1 in /usr/local/lib/python3.10/site-packages (from pydantic<3.0,>=1.9.0->zhipuai) (4.12.2)\r\n",
      "Requirement already satisfied: exceptiongroup>=1.0.2 in /usr/local/lib/python3.10/site-packages (from anyio->httpx>=0.23.0->zhipuai) (1.2.1)\r\n"
     ]
    },
    {
     "name": "stdout",
     "output_type": "stream",
     "text": [
      "Installing collected packages: pyjwt, zhipuai\r\n"
     ]
    },
    {
     "name": "stdout",
     "output_type": "stream",
     "text": [
      "Successfully installed pyjwt-2.8.0 zhipuai-2.1.5.20230904\r\n",
      "\u001b[33mWARNING: Running pip as the 'root' user can result in broken permissions and conflicting behaviour with the system package manager. It is recommended to use a virtual environment instead: https://pip.pypa.io/warnings/venv\u001b[0m\u001b[33m\r\n",
      "\u001b[0m"
     ]
    },
    {
     "name": "stdout",
     "output_type": "stream",
     "text": [
      "Note: you may need to restart the kernel to use updated packages.\n"
     ]
    }
   ],
   "source": [
    "pip install zhipuai"
   ]
  },
  {
   "cell_type": "code",
   "execution_count": 2,
   "id": "af97ae4c-77ac-42cf-af4d-588558d5e7c1",
   "metadata": {
    "execution": {
     "iopub.execute_input": "2024-11-21T09:05:55.006457Z",
     "iopub.status.busy": "2024-11-21T09:05:55.005984Z",
     "iopub.status.idle": "2024-11-21T09:05:55.283369Z",
     "shell.execute_reply": "2024-11-21T09:05:55.282816Z",
     "shell.execute_reply.started": "2024-11-21T09:05:55.006403Z"
    },
    "jupyter": {
     "source_hidden": false
    }
   },
   "outputs": [],
   "source": [
    "from  zhipuai import ZhipuAI"
   ]
  },
  {
   "cell_type": "code",
   "execution_count": 4,
   "id": "4292d501-6e58-4ff1-baef-98f4cee5f4fa",
   "metadata": {
    "execution": {
     "iopub.execute_input": "2024-11-21T09:11:49.274358Z",
     "iopub.status.busy": "2024-11-21T09:11:49.274063Z",
     "iopub.status.idle": "2024-11-21T09:11:49.572702Z",
     "shell.execute_reply": "2024-11-21T09:11:49.572273Z",
     "shell.execute_reply.started": "2024-11-21T09:11:49.274338Z"
    },
    "jupyter": {
     "outputs_hidden": false,
     "source_hidden": false
    }
   },
   "outputs": [
    {
     "name": "stdout",
     "output_type": "stream",
     "text": [
      "VideoObject(id='69111732090589636-9221302446239581883', model='cogvideox', video_result=None, task_status='PROCESSING', request_id='-9221302446239581884')\n"
     ]
    }
   ],
   "source": [
    "client = ZhipuAI(api_key=\"6518ee6483963cbebc59629b1d79b537.sjy0ru3Ijh56OzAl\")\n",
    "\n",
    "response = client.videos.generations(\n",
    "    model=\"cogvideox\",\n",
    "    prompt=\"天线宝宝大战花园宝宝\"\n",
    ")\n",
    "print(response)"
   ]
  },
  {
   "cell_type": "code",
   "execution_count": 5,
   "id": "cb52f4e7-da63-4101-9f31-93d82a7cd641",
   "metadata": {
    "execution": {
     "iopub.status.busy": "2024-11-21T09:13:05.746076Z"
    },
    "jupyter": {
     "source_hidden": false
    }
   },
   "outputs": [],
   "source": [
    "response = client.videos.retrieve_videos_result(\n",
    "    id=\"69111732090589636-9221302446239581883\"\n",
    ")\n",
    "\n",
    "print(response)"
   ]
  }
 ],
 "metadata": {},
 "nbformat": 4,
 "nbformat_minor": 5
}
